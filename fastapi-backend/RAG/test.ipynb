{
 "cells": [
  {
   "cell_type": "markdown",
   "metadata": {},
   "source": [
    "## Convert JSON to PDF"
   ]
  },
  {
   "cell_type": "code",
   "execution_count": 2,
   "metadata": {},
   "outputs": [],
   "source": [
    "import json\n",
    "from fpdf import FPDF\n",
    "import os"
   ]
  },
  {
   "cell_type": "code",
   "execution_count": 44,
   "metadata": {},
   "outputs": [
    {
     "data": {
      "text/plain": [
       "['app.py',\n",
       " 'bankstatement',\n",
       " 'FinGeniusAssistant.py',\n",
       " 'pdf_chat.ipynb',\n",
       " 'test.ipynb']"
      ]
     },
     "execution_count": 44,
     "metadata": {},
     "output_type": "execute_result"
    }
   ],
   "source": [
    "os.listdir()"
   ]
  },
  {
   "cell_type": "code",
   "execution_count": 3,
   "metadata": {},
   "outputs": [],
   "source": [
    "path = os.path.join('bankstatement')"
   ]
  },
  {
   "cell_type": "code",
   "execution_count": 4,
   "metadata": {},
   "outputs": [],
   "source": [
    "userId = \"0001\"\n",
    "jsonPath = os.path.join(path, f\"{userId}.json\")\n",
    "data = json.load(open(f\"{jsonPath}\"))"
   ]
  },
  {
   "cell_type": "code",
   "execution_count": 5,
   "metadata": {},
   "outputs": [],
   "source": [
    "def draw_table_headers(pdf):\n",
    "    pdf.set_fill_color(200, 220, 255)\n",
    "    pdf.cell(col_widths[0], 10, \"Date\", 1, 0, \"C\", True)\n",
    "    pdf.cell(col_widths[1], 10, \"Description\", 1, 0, \"C\", True)\n",
    "    pdf.cell(col_widths[2], 10, \"Debit\", 1, 0, \"C\", True)\n",
    "    pdf.cell(col_widths[3], 10, \"Credit\", 1, 0, \"C\", True)\n",
    "    pdf.cell(col_widths[4], 10, \"Balance\", 1, 1, \"C\", True)"
   ]
  },
  {
   "cell_type": "code",
   "execution_count": 6,
   "metadata": {},
   "outputs": [
    {
     "data": {
      "text/plain": [
       "''"
      ]
     },
     "execution_count": 6,
     "metadata": {},
     "output_type": "execute_result"
    }
   ],
   "source": [
    "pdf = FPDF()\n",
    "col_widths = [30, 60, 30, 30, 30]\n",
    "\n",
    "pdf.add_page()\n",
    "pdf.set_font(\"Arial\", size=12)\n",
    "pdf.cell(200, 10, txt=\"Bank Statement\", ln=True, align=\"C\")\n",
    "pdf.ln(10)\n",
    "draw_table_headers(pdf)\n",
    "\n",
    "for transaction in data:\n",
    "    if pdf.get_y() > 200:\n",
    "        pdf.add_page()\n",
    "        pdf.set_font(\"Arial\", size=12)\n",
    "        draw_table_headers(pdf)\n",
    "    pdf.cell(col_widths[0], 10, transaction[\"date\"], 1, 0, \"C\")\n",
    "    pdf.cell(col_widths[1], 10, transaction[\"description\"], 1, 0, \"L\")\n",
    "    pdf.cell(col_widths[2], 10, str(transaction[\"debit\"]), 1, 0, \"C\")\n",
    "    pdf.cell(col_widths[3], 10, str(transaction[\"credit\"]), 1, 0, \"C\")\n",
    "    pdf.cell(col_widths[4], 10, str(transaction[\"balance\"]), 1, 1, \"C\")\n",
    "\n",
    "outputPath = path\n",
    "pdf.output(os.path.join(path, f\"{userId}.pdf\"))"
   ]
  },
  {
   "cell_type": "markdown",
   "metadata": {},
   "source": [
    "## PDF Loader"
   ]
  },
  {
   "cell_type": "code",
   "execution_count": 7,
   "metadata": {},
   "outputs": [],
   "source": [
    "from langchain_community.document_loaders import PyPDFLoader\n",
    "\n",
    "pdfPath = os.path.join(path, f\"{userId}.pdf\")\n",
    "loader = PyPDFLoader(pdfPath)\n",
    "pages = loader.load_and_split()"
   ]
  },
  {
   "cell_type": "code",
   "execution_count": 8,
   "metadata": {},
   "outputs": [
    {
     "data": {
      "text/plain": [
       "[Document(page_content='Bank Statement\\nDate Description Debit Credit Balance\\n2020-01-01 groceries 450.0 0.0 1000.0\\n2020-01-02 salary 0.0 2000.0 3000.0\\n2020-01-03 dinner 1000.0 0.0 2000.0\\n2020-01-04 friend debt 0.0 6000.0 8000.0\\n2020-01-01 groceries 450.0 0.0 1000.0\\n2020-01-02 salary 0.0 2000.0 3000.0\\n2020-01-03 dinner 1000.0 0.0 2000.0\\n2020-01-04 friend debt 0.0 6000.0 8000.0\\n2020-01-05 utilities 300.0 0.0 7700.0\\n2020-01-06 rent 1200.0 0.0 6500.0\\n2020-01-07 movie tickets 50.0 0.0 6450.0\\n2020-01-08 online shopping 500.0 0.0 5950.0\\n2020-01-09 car service 200.0 0.0 5750.0\\n2020-01-10 medical expenses 800.0 0.0 4950.0\\n2020-01-11 groceries 450.0 0.0 4500.0\\n2020-01-12 salary 0.0 2000.0 6500.0', metadata={'source': 'bankstatement\\\\0001.pdf', 'page': 0}),\n",
       " Document(page_content='Date Description Debit Credit Balance\\n2020-01-13 dinner 1000.0 0.0 5500.0\\n2020-01-14 friend debt 0.0 6000.0 11500.0\\n2020-01-15 utilities 300.0 0.0 11200.0\\n2020-01-16 rent 1200.0 0.0 10000.0\\n2020-01-17 movie tickets 50.0 0.0 9950.0\\n2020-01-18 online shopping 500.0 0.0 9450.0\\n2020-01-19 car service 200.0 0.0 9250.0\\n2020-01-20 medical expenses 800.0 0.0 8450.0\\n2020-01-21 groceries 450.0 0.0 8000.0\\n2020-01-22 salary 0.0 2000.0 10000.0\\n2020-01-23 dinner 1000.0 0.0 9000.0\\n2020-01-24 friend debt 0.0 6000.0 15000.0\\n2020-01-25 utilities 300.0 0.0 14700.0\\n2020-01-26 rent 1200.0 0.0 13500.0\\n2020-01-27 movie tickets 50.0 0.0 13450.0\\n2020-01-28 online shopping 500.0 0.0 12950.0\\n2020-01-29 car service 200.0 0.0 12750.0\\n2020-01-30 medical expenses 800.0 0.0 11950.0', metadata={'source': 'bankstatement\\\\0001.pdf', 'page': 1}),\n",
       " Document(page_content='Date Description Debit Credit Balance\\n2020-01-31 groceries 450.0 0.0 11500.0\\n2020-01-01 groceries 450.0 0.0 1000.0\\n2020-01-02 salary 0.0 2000.0 3000.0\\n2020-01-03 dinner 1000.0 0.0 2000.0\\n2020-01-04 friend debt 0.0 6000.0 8000.0\\n2020-01-05 utilities 300.0 0.0 7700.0\\n2020-01-06 rent 1200.0 0.0 6500.0\\n2020-01-07 movie tickets 50.0 0.0 6450.0\\n2020-01-08 online shopping 500.0 0.0 5950.0\\n2020-01-09 car service 200.0 0.0 5750.0\\n2020-01-10 medical expenses 800.0 0.0 4950.0', metadata={'source': 'bankstatement\\\\0001.pdf', 'page': 2})]"
      ]
     },
     "execution_count": 8,
     "metadata": {},
     "output_type": "execute_result"
    }
   ],
   "source": [
    "pages"
   ]
  },
  {
   "cell_type": "code",
   "execution_count": 18,
   "metadata": {},
   "outputs": [
    {
     "name": "stdout",
     "output_type": "stream",
     "text": [
      "['Bank Statement\\nDate Description Debit Credit Balance\\n2020-01-01 groceries 450.0 0.0 1000.0\\n2020-01-02 salary 0.0 2000.0 3000.0\\n2020-01-03 dinner 1000.0 0.0 2000.0\\n2020-01-04 friend debt 0.0 6000.0 8000.0\\n2020-01-01 groceries 450.0 0.0 1000.0\\n2020-01-02 salary 0.0 2000.0 3000.0\\n2020-01-03 dinner 1000.0 0.0 2000.0\\n2020-01-04 friend debt 0.0 6000.0 8000.0\\n2020-01-05 utilities 300.0 0.0 7700.0\\n2020-01-06 rent 1200.0 0.0 6500.0\\n2020-01-07 movie tickets 50.0 0.0 6450.0\\n2020-01-08 online shopping 500.0 0.0 5950.0\\n2020-01-09 car service 200.0 0.0 5750.0\\n2020-01-10 medical expenses 800.0 0.0 4950.0\\n2020-01-11 groceries 450.0 0.0 4500.0\\n2020-01-12 salary 0.0 2000.0 6500.0', 'Date Description Debit Credit Balance\\n2020-01-13 dinner 1000.0 0.0 5500.0\\n2020-01-14 friend debt 0.0 6000.0 11500.0\\n2020-01-15 utilities 300.0 0.0 11200.0\\n2020-01-16 rent 1200.0 0.0 10000.0\\n2020-01-17 movie tickets 50.0 0.0 9950.0\\n2020-01-18 online shopping 500.0 0.0 9450.0\\n2020-01-19 car service 200.0 0.0 9250.0\\n2020-01-20 medical expenses 800.0 0.0 8450.0\\n2020-01-21 groceries 450.0 0.0 8000.0\\n2020-01-22 salary 0.0 2000.0 10000.0\\n2020-01-23 dinner 1000.0 0.0 9000.0\\n2020-01-24 friend debt 0.0 6000.0 15000.0\\n2020-01-25 utilities 300.0 0.0 14700.0\\n2020-01-26 rent 1200.0 0.0 13500.0\\n2020-01-27 movie tickets 50.0 0.0 13450.0\\n2020-01-28 online shopping 500.0 0.0 12950.0\\n2020-01-29 car service 200.0 0.0 12750.0\\n2020-01-30 medical expenses 800.0 0.0 11950.0', 'Date Description Debit Credit Balance\\n2020-01-31 groceries 450.0 0.0 11500.0\\n2020-01-01 groceries 450.0 0.0 1000.0\\n2020-01-02 salary 0.0 2000.0 3000.0\\n2020-01-03 dinner 1000.0 0.0 2000.0\\n2020-01-04 friend debt 0.0 6000.0 8000.0\\n2020-01-05 utilities 300.0 0.0 7700.0\\n2020-01-06 rent 1200.0 0.0 6500.0\\n2020-01-07 movie tickets 50.0 0.0 6450.0\\n2020-01-08 online shopping 500.0 0.0 5950.0\\n2020-01-09 car service 200.0 0.0 5750.0\\n2020-01-10 medical expenses 800.0 0.0 4950.0']\n"
     ]
    }
   ],
   "source": [
    "page_content = [doc.page_content for doc in pages]\n",
    "print(page_content)"
   ]
  },
  {
   "cell_type": "markdown",
   "metadata": {},
   "source": [
    "## Retrieval QnA with Groq"
   ]
  },
  {
   "cell_type": "code",
   "execution_count": 42,
   "metadata": {},
   "outputs": [],
   "source": [
    "context = page_content\n",
    "sys_prompt = f\"\"\"\n",
    "Instructions:\n",
    "- You are a finance guru that will help user analyse their bank statement.\n",
    "- You will be given a bank statement in the form of a table with headings Date, Description, Debit, Credit, Balance.\n",
    "- Debit is the amount of money taken out of the account.\n",
    "- Credit is the amount of money put into the account.\n",
    "- Balance is the remaining amount in the account.\n",
    "- Help the user understand their spending habits and suggest ways to save money.\n",
    "- Help the user understand their income and suggest ways to increase it.\n",
    "- Dont show the table or from where you get the data only output the analysis.\n",
    "- Do not give out of scope answer only answer what is asked.\n",
    "Context: {context}\n",
    "\"\"\""
   ]
  },
  {
   "cell_type": "code",
   "execution_count": 36,
   "metadata": {},
   "outputs": [],
   "source": [
    "from groq import Groq"
   ]
  },
  {
   "cell_type": "code",
   "execution_count": 37,
   "metadata": {},
   "outputs": [],
   "source": [
    "import os\n",
    "from dotenv import load_dotenv\n",
    "load_dotenv()\n",
    "\n",
    "client = Groq(\n",
    "    api_key= os.getenv(\"GROQ_API_KEY\"),\n",
    ")"
   ]
  },
  {
   "cell_type": "code",
   "execution_count": 40,
   "metadata": {},
   "outputs": [],
   "source": [
    "query = \"is friend debt credited into my account or debited\""
   ]
  },
  {
   "cell_type": "code",
   "execution_count": 43,
   "metadata": {},
   "outputs": [
    {
     "name": "stdout",
     "output_type": "stream",
     "text": [
      "Based on the bank statements provided, \"friend debt\" is credited into your account, meaning you received a total of 12,000.0 (6,000.0 on 2020-01-04 and another 6,000.0 on 2020-01-24) from your friend.\n"
     ]
    }
   ],
   "source": [
    "chat_completion = client.chat.completions.create(\n",
    "        messages=[\n",
    "            {\n",
    "                \"role\": \"system\",\n",
    "                \"content\": f\"{sys_prompt}\"\n",
    "            },\n",
    "            {\n",
    "                \"role\": \"user\",\n",
    "                \"content\": f\"{query}\",\n",
    "            }\n",
    "        ],\n",
    "        model=\"mixtral-8x7b-32768\",\n",
    "        temperature=0.5,\n",
    "        max_tokens=2048,\n",
    "        top_p=1,\n",
    "        stop=None,\n",
    "        stream=False,\n",
    "    )\n",
    "\n",
    "print( chat_completion.choices[0].message.content )"
   ]
  },
  {
   "cell_type": "markdown",
   "metadata": {},
   "source": [
    "## CohereEmbedding + ChromaDB"
   ]
  },
  {
   "cell_type": "code",
   "execution_count": 10,
   "metadata": {},
   "outputs": [],
   "source": [
    "# from langchain_cohere import CohereEmbeddings\n",
    "# from langchain_chroma import Chroma"
   ]
  },
  {
   "cell_type": "code",
   "execution_count": 11,
   "metadata": {},
   "outputs": [],
   "source": [
    "# from dotenv import load_dotenv\n",
    "# load_dotenv()"
   ]
  },
  {
   "cell_type": "code",
   "execution_count": 12,
   "metadata": {},
   "outputs": [],
   "source": [
    "# dbPath = os.path.join(path)\n",
    "# dbPath"
   ]
  },
  {
   "cell_type": "code",
   "execution_count": 13,
   "metadata": {},
   "outputs": [],
   "source": [
    "# cohere_api_key = os.getenv(\"COHERE_API_KEY\")\n",
    "# db = Chroma.from_documents(pages, CohereEmbeddings(cohere_api_key=cohere_api_key), persist_directory=os.path.join(dbPath, \"chroma\"))"
   ]
  },
  {
   "cell_type": "code",
   "execution_count": 14,
   "metadata": {},
   "outputs": [],
   "source": [
    "# db.delete_collection()"
   ]
  },
  {
   "cell_type": "markdown",
   "metadata": {},
   "source": [
    "## Trial Only"
   ]
  },
  {
   "cell_type": "code",
   "execution_count": 15,
   "metadata": {},
   "outputs": [],
   "source": [
    "# query = CohereEmbeddings().embed_query(\"how much i spend on movie tickets\")\n",
    "# print(query)"
   ]
  },
  {
   "cell_type": "code",
   "execution_count": 16,
   "metadata": {},
   "outputs": [],
   "source": [
    "# result = db.similarity_search_by_vector(query)"
   ]
  },
  {
   "cell_type": "code",
   "execution_count": 17,
   "metadata": {},
   "outputs": [],
   "source": [
    "# print(result[0].page_content)"
   ]
  }
 ],
 "metadata": {
  "kernelspec": {
   "display_name": ".venv",
   "language": "python",
   "name": "python3"
  },
  "language_info": {
   "codemirror_mode": {
    "name": "ipython",
    "version": 3
   },
   "file_extension": ".py",
   "mimetype": "text/x-python",
   "name": "python",
   "nbconvert_exporter": "python",
   "pygments_lexer": "ipython3",
   "version": "3.10.11"
  }
 },
 "nbformat": 4,
 "nbformat_minor": 2
}
